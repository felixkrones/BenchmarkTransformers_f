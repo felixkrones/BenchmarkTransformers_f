{
 "cells": [
  {
   "cell_type": "code",
   "execution_count": null,
   "metadata": {},
   "outputs": [],
   "source": [
    "! python main_classification.py --data_set CheXpert \\\n",
    "--model vit_small \\\n",
    "--init gmml_test \\\n",
    "--pretrained_weights /home/ubuntu/models/gmml_1000e_nih.pth \\\n",
    "--data_dir /home/ubuntu/data/ChestXpert/ \\\n",
    "--train_list dataset/CheXpert_train_official.csv \\\n",
    "--val_list dataset/CheXpert_valid_official.csv \\\n",
    "--test_list dataset/CheXpert_valid_official.csv \\\n",
    "--device cuda \\\n",
    "--epochs 20 \\\n",
    "--nc 3"
   ]
  },
  {
   "cell_type": "code",
   "execution_count": null,
   "metadata": {},
   "outputs": [],
   "source": []
  }
 ],
 "metadata": {
  "kernelspec": {
   "display_name": "pytorch",
   "language": "python",
   "name": "python3"
  },
  "language_info": {
   "codemirror_mode": {
    "name": "ipython",
    "version": 3
   },
   "file_extension": ".py",
   "mimetype": "text/x-python",
   "name": "python",
   "nbconvert_exporter": "python",
   "pygments_lexer": "ipython3",
   "version": "3.9.13"
  },
  "orig_nbformat": 4,
  "vscode": {
   "interpreter": {
    "hash": "2d58e898dde0263bc564c6968b04150abacfd33eed9b19aaa8e45c040360e146"
   }
  }
 },
 "nbformat": 4,
 "nbformat_minor": 2
}
