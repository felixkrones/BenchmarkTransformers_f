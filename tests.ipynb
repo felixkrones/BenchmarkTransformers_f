{
 "cells": [
  {
   "cell_type": "code",
   "execution_count": null,
   "metadata": {},
   "outputs": [],
   "source": [
    "! python main_classification.py --data_set CheXpert \\\n",
    "--model vit_small \\\n",
    "--init gmml_test \\\n",
    "--pretrained_weights gmml_1000e_nih.pth \\\n",
    "--data_dir /Users/felixkrones/python_projects/data/ChestXpert/ \\\n",
    "--train_list dataset/CheXpert_train_official.csv \\\n",
    "--val_list dataset/CheXpert_valid_official.csv \\\n",
    "--test_list dataset/CheXpert_valid_official.csv \\\n",
    "--device mps \\\n",
    "--epochs 30"
   ]
  },
  {
   "cell_type": "code",
   "execution_count": null,
   "metadata": {},
   "outputs": [],
   "source": []
  }
 ],
 "metadata": {
  "kernelspec": {
   "display_name": "BenchmarkTransferLearning-1YPCNYdk",
   "language": "python",
   "name": "python3"
  },
  "language_info": {
   "codemirror_mode": {
    "name": "ipython",
    "version": 3
   },
   "file_extension": ".py",
   "mimetype": "text/x-python",
   "name": "python",
   "nbconvert_exporter": "python",
   "pygments_lexer": "ipython3",
   "version": "3.9.16"
  },
  "orig_nbformat": 4,
  "vscode": {
   "interpreter": {
    "hash": "37f11bc3e11ffbe3c3868f7d7f972f16544583f8538523e0c66fba635d4598e1"
   }
  }
 },
 "nbformat": 4,
 "nbformat_minor": 2
}
